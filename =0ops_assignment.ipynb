{
  "nbformat": 4,
  "nbformat_minor": 0,
  "metadata": {
    "colab": {
      "provenance": []
    },
    "kernelspec": {
      "name": "python3",
      "display_name": "Python 3"
    },
    "language_info": {
      "name": "python"
    }
  },
  "cells": [
    {
      "cell_type": "markdown",
      "source": [
        "##Python OOPs\n",
        "\n",
        "\n"
      ],
      "metadata": {
        "id": "zKebIlRuY4lE"
      }
    },
    {
      "cell_type": "markdown",
      "source": [
        "Q.1 What is Object-Oriented Programming (OOP)?\n",
        "   - Object-Oriented Programming (OOP) is a programming paradigm that organizes and models data as \"objects\" rather than actions or logic. Objects are instances of classes, which define their attributes (data) and methods (functions) to interact with that data.\n",
        "   - OOP is widely used to create modular, reusable, and scalable code by focusing on real-world entities and their relationships.\n"
      ],
      "metadata": {
        "id": "Ud2aKAx3ZVuX"
      }
    },
    {
      "cell_type": "markdown",
      "source": [
        "Q.2 What is a class in OOP?\n",
        "  - A class in Object-Oriented Programming (OOP) is a blueprint or template used to create objects. It defines the structure and behavior (attributes and methods) that the objects created from the class will have.\n",
        "  - Classes provide a way to encapsulate data (attributes) and functions (methods) into a single logical unit. They help model real-world entities and their behaviors in a programming environment.\n"
      ],
      "metadata": {
        "id": "TYG-MSv2Z05N"
      }
    },
    {
      "cell_type": "markdown",
      "source": [
        "Q.3 What is an object in OOP?\n",
        "  - An object in Object-Oriented Programming (OOP) is an instance of a class. It is a concrete entity that represents a real-world or abstract concept defined by the class. Objects encapsulate data (attributes) and behavior (methods) defined in their class.\n",
        "\n",
        "\n"
      ],
      "metadata": {
        "id": "dzJ1tEYzaQhG"
      }
    },
    {
      "cell_type": "markdown",
      "source": [
        "Q.4 What is the difference between abstraction and encapsulation?\n",
        "  - Abstraction and Encapsulation are both fundamental concepts in Object-Oriented Programming (OOP), but they serve different purposes and focus on different aspects of a program's design.\n",
        "  - Abstraction focuses on hiding complexity by exposing only the essential features (what the object does).\n",
        "  - Encapsulation focuses on protecting data by bundling it with methods and restricting direct access (how the data is managed).\n",
        "  "
      ],
      "metadata": {
        "id": "uynApf2_ahXS"
      }
    },
    {
      "cell_type": "markdown",
      "source": [
        "Q.5 What are dunder methods in Python?\n",
        "  - Dunder methods, short for \"double underscore methods,\" are special methods in Python with names surrounded by double underscores (e.g., __init__, __str__). They are also known as magic methods or special methods. These methods are predefined in Python and are used to define how objects of a class behave in various operations, such as initialization, string representation, addition, and comparison."
      ],
      "metadata": {
        "id": "Tm3h8cYSbBqH"
      }
    },
    {
      "cell_type": "markdown",
      "source": [
        "Q.6 Explain the concept of inheritance in OOP.\n",
        "  - Inheritance is a fundamental concept in Object-Oriented Programming (OOP) that allows a class (called the child class or derived class) to inherit attributes and methods from another class (called the parent class or base class). This mechanism enables code reusability, hierarchical classification, and the extension of existing functionality."
      ],
      "metadata": {
        "id": "OH9VkhLLbTOd"
      }
    },
    {
      "cell_type": "markdown",
      "source": [
        "Q.7 What is polymorphism in OOP?\n",
        "  - Polymorphism is a core concept in Object-Oriented Programming (OOP) that allows objects of different classes to be treated as objects of a common superclass.\n",
        "  - It enables a single interface to represent different underlying data types or methods, allowing flexibility and reusability in code."
      ],
      "metadata": {
        "id": "Id-ivu0ObiqN"
      }
    },
    {
      "cell_type": "markdown",
      "source": [
        "Q.8 How is encapsulation achieved in Python?\n",
        "  - In Python, encapsulation is achieved through:\n",
        "    - Defining classes to group data and methods.\n",
        "    - Controlling access to attributes and methods using access modifiers:\n",
        "      - Public\n",
        "      - Protected\n",
        "      - Private\n",
        "  - Encapsulation in Python is achieved through access modifiers and the use of getter and setter methods."
      ],
      "metadata": {
        "id": "ytCGIuLCb-ZW"
      }
    },
    {
      "cell_type": "markdown",
      "source": [
        "Q.9 What is a constructor in Python?\n",
        "  - A constructor in Python is a special method that is automatically called when an object of a class is created. It is used to initialize the attributes of the class and perform any setup required for the object.\n",
        "  - In Python, the constructor method is defined using the special method__init__()."
      ],
      "metadata": {
        "id": "ftuoXvQFdFiO"
      }
    },
    {
      "cell_type": "markdown",
      "source": [
        "Q.10 What are class and static methods in Python?\n",
        "   - In Python, class methods and static methods are two special types of methods that belong to a class, but they differ in how they access and interact with class and instance data.\n",
        "   - Class Methods: Operate on the class and are ideal for class-level operations or alternative constructors.\n",
        "   - Static Methods: Provide utility-like behavior that doesn't depend on class or instance state. Understanding and using these methods appropriately helps in designing robust and organized object-oriented programs."
      ],
      "metadata": {
        "id": "dG8gnP4YdclD"
      }
    },
    {
      "cell_type": "markdown",
      "source": [
        "Q.11 What is method overloading in Python?\n",
        "   - Method overloading is a concept in Object-Oriented Programming (OOP) where multiple methods in the same class share the same name but differ in the number or type of parameters. It allows a method to perform different tasks based on the arguments provided."
      ],
      "metadata": {
        "id": "b18Acn-ld9rD"
      }
    },
    {
      "cell_type": "markdown",
      "source": [
        "Q.12 What is method overriding in OOP?\n",
        "   - Method overriding is a feature of Object-Oriented Programming (OOP) that allows a subclass to provide a specific implementation of a method already defined in its parent class. When a method in a subclass has the same name, return type, and parameters as a method in the parent class, the method in the subclass overrides the one in the parent class."
      ],
      "metadata": {
        "id": "-z4ryOpD5nOl"
      }
    },
    {
      "cell_type": "markdown",
      "source": [
        "Q.13 What is a property decorator in Python?\n",
        "   - The @property decorator in Python is used to define a method in a class as a property. This allows you to access the method like an attribute rather than explicitly calling it as a method. It provides a way to manage the attributes of a class, enabling encapsulation and control over attribute access while maintaining a clean and intuitive interface."
      ],
      "metadata": {
        "id": "ER8L5k4m5zs7"
      }
    },
    {
      "cell_type": "markdown",
      "source": [
        "Q.14 Why is polymorphism important in OOP?\n",
        "   - Below are the key reasons why polymorphism is important in OOP:\n",
        "    - Promotes Code Reusability :- With polymorphism, you can write general  \n",
        "      code that works with multiple types of objects, reducing duplication.\n",
        "    - Enables Dynamic Method Resolution :- At runtime, the method corresponding\n",
        "      to the actual object type is invoked, not the reference type.\n",
        "    - Encourages Extensibility :- Polymorphism makes it easier to extend systems by adding new types of objects without modifying existing code."
      ],
      "metadata": {
        "id": "tNbnSsv86A5H"
      }
    },
    {
      "cell_type": "markdown",
      "source": [
        "Q.15 What is an abstract class in Python?\n",
        "   - An abstract class in Python is a class that cannot be instantiated directly and serves as a blueprint for other classes. It is used to define common behavior that can be shared among multiple derived classes, while enforcing that certain methods must be implemented in those subclasses.\n",
        "   - In Python, abstract classes are created using the ABC (Abstract Base Class) module from the abc module."
      ],
      "metadata": {
        "id": "PXQkyOcG673t"
      }
    },
    {
      "cell_type": "markdown",
      "source": [
        "Q.16 What are the advantages of OOP?\n",
        "   - Below are the primary advantages of OOP:\n",
        "     - Modularity Through Encapsulation :-\n",
        "       - Encapsulation allows combining data (attributes) and behavior  \n",
        "         (methods) within a single unit, the object.\n",
        "       - By hiding internal implementation details, it ensures that changes in\n",
        "         one part of the code do not affect other parts unnecessarily.\n",
        "     - Code Reusability Through Inheritance :-  \n",
        "       - Inheritance allows new classes to reuse and extend the functionality  \n",
        "         of existing classes.\n",
        "       - It reduces code duplication and simplifies maintenance.\n",
        "     - Flexibility Through Polymorphism :-   \n",
        "       - Polymorphism allows objects of different classes to be treated uniformly if they share a common interface.It simplifies code by enabling dynamic method resolution."
      ],
      "metadata": {
        "id": "IVZsO5w67Jge"
      }
    },
    {
      "cell_type": "markdown",
      "source": [
        "Q.17 What is the difference between a class variable and an instance variable?\n",
        "   - In Python, variables defined in a class can be categorized as class variables or instance variables based on their behavior and scope. Here's a detailed comparison:-\n",
        "   - Class Variables:\n",
        "     - Defined outside of any method in the class body.\n",
        "     - Shared by all instances.\n",
        "     - Useful for properties common to all objects (e.g., a company name for  \n",
        "       all employees).\n",
        "   - Instance Variables:\n",
        "     - Defined inside methods, typically __init__.\n",
        "     - Unique to each instance.\n",
        "     - Useful for properties specific to each object (e.g., an employee's name\n",
        "       and age)."
      ],
      "metadata": {
        "id": "Av_xVhCk8Kov"
      }
    },
    {
      "cell_type": "markdown",
      "source": [
        "Q.18 What is multiple inheritance in Python?\n",
        "   - Multiple inheritance is a feature in Python that allows a class to inherit from more than one parent class. This means a single child class can inherit attributes and methods from multiple parent classes."
      ],
      "metadata": {
        "id": "uYpijLla9Adf"
      }
    },
    {
      "cell_type": "markdown",
      "source": [
        "Q.19 Explain the purpose of ‘’__str__’ and ‘__repr__’ ‘ methods in Python.\n",
        "   - In Python, __str__ and __repr__ are dunder (double underscore) methods that define string representations for objects. These methods control how objects are represented when converted to strings or displayed in the console.\n",
        "   - __repr__ Method :-  \n",
        "    - Purpose: Provides an unambiguous representation of an object, primarily\n",
        "      intended for debugging and development.\n",
        "    - Goal: The string returned by __repr__ should ideally be a valid Python\n",
        "      expression that can recreate the object.\n",
        "    - Usage: Called when using repr() or when inspecting an object in an\n",
        "      interactive shell.\n",
        "   - __str__ Method\n",
        "    - Purpose: Provides a user-friendly, readable representation of an object.\n",
        "    - Goal: The string returned by __str__ is meant for end users and should be\n",
        "      easy to read.\n",
        "    - Usage: Called when using str() or print() on an object. Focuses on\n",
        "      providing meaningful and human-readable output."
      ],
      "metadata": {
        "id": "BRTKV4T59Xg7"
      }
    },
    {
      "cell_type": "markdown",
      "source": [
        "Q.20 What is the significance of the ‘super()’ function in Python?\n",
        "   - The super() function in Python is used to call methods from a parent class\n",
        "     within a subclass. It plays a key role in object-oriented programming by facilitating inheritance and method overriding. Here's a detailed explanation of its significance:\n",
        "   - Key Features of super() :-\n",
        "     - Access Parent Class Methods: Allows a child class to invoke methods\n",
        "       (including constructors) defined in its parent class.\n",
        "     - Avoid Redundant Code: Eliminates the need to explicitly name the parent\n",
        "       class, reducing redundancy and making code more maintainable.\n",
        "     - Support for Multiple Inheritance: Works seamlessly with Python’s Method\n",
        "       Resolution Order (MRO) to ensure the correct parent class method is called in the case of multiple inheritance.\n",
        "     - Dynamic Parent Class Resolution: Dynamically resolves the parent class  \n",
        "       at runtime, making it adaptable to class changes."
      ],
      "metadata": {
        "id": "SCC9amzQ-SVM"
      }
    },
    {
      "cell_type": "markdown",
      "source": [
        "Q.21 What is the significance of the __del__ method in Python?\n",
        "   - The __del__ method in Python is a destructor method that is automatically called when an object is about to be destroyed or deallocated from memory. It provides an opportunity to clean up resources and perform any necessary finalization tasks, such as closing files, releasing network connections, or freeing up other external resources."
      ],
      "metadata": {
        "id": "ZNUqp6mB-6U-"
      }
    },
    {
      "cell_type": "markdown",
      "source": [
        "Q.22 What is the difference between @staticmethod and @classmethod in Python?\n",
        "   - Use @staticmethod when the method doesn't need access to class or instance variables. It’s useful for utility functions that are logically related to the class but do not interact with the class or instance state.\n",
        "   - Use @classmethod when the method needs to work with class-level data or state, such as modifying class variables or creating alternative constructors. It takes the class as the first argument (cls) rather than an instance (self)."
      ],
      "metadata": {
        "id": "A-z67FGx_GbS"
      }
    },
    {
      "cell_type": "markdown",
      "source": [
        "Q.23 How does polymorphism work in Python with inheritance?\n",
        "   - Polymorphism is one of the core principles of Object-Oriented Programming (OOP), allowing objects of different classes to be treated as instances of the same class. In Python, polymorphism enables a subclass to provide a different implementation of a method that is already defined in its parent class. This occurs through method overriding. It allows methods with the same name to behave differently depending on the object that invokes them.\n",
        "   - Polymorphism in Python is achieved through inheritance, where a subclass inherits from a superclass and can override or extend the behavior of inherited methods."
      ],
      "metadata": {
        "id": "TpuSPAk7_YqK"
      }
    },
    {
      "cell_type": "markdown",
      "source": [
        "Q.24 What is method chaining in Python OOP?\n",
        "   - Method chaining is a programming technique in which multiple methods are called on the same object, in a single line of code, one after another. Each method call returns the object itself (or another object) so that the next method can be invoked on it directly. This allows you to chain together several method calls in a fluent and readable manner.\n",
        "   - In Python, method chaining is typically used in Object-Oriented Programming (OOP) to make code more concise and readable. It is often seen in classes that implement a \"builder\" pattern, where the result of one method call is the object itself, enabling the chaining of methods."
      ],
      "metadata": {
        "id": "j8NrB0U2_p4j"
      }
    },
    {
      "cell_type": "markdown",
      "source": [
        "Q.25 What is the purpose of the __call__ method in Python?\n",
        "   - In Python, the __call__ method is a special or dunder (double underscore) method that allows an instance of a class to be called as if it were a function. This means that you can invoke an object directly, just like a function, and the __call__ method will be executed.\n",
        "   - When you define the __call__ method in a class, you are essentially giving instances of that class callable behavior. This is particularly useful in situations where you want to encapsulate functionality within an object but still want the object to behave like a function in some contexts."
      ],
      "metadata": {
        "id": "rpw5FCvK_5K8"
      }
    },
    {
      "cell_type": "markdown",
      "source": [
        "##Practical Questions"
      ],
      "metadata": {
        "id": "Llcxo0MCAHzu"
      }
    },
    {
      "cell_type": "code",
      "source": [
        "#1. Create a parent class Animal with a method speak() that prints a generic message. Create a child class Dog that overrides the speak() method to print \"Bark!\".\n",
        "\n",
        "#Parent class\n",
        "class Animal:\n",
        "    def speak(self):\n",
        "        print(\"This is a generic animal sound.\")\n",
        "\n",
        "# Child class\n",
        "class Dog(Animal):\n",
        "    def speak(self):\n",
        "        print(\"Bark!\")\n",
        "\n",
        "# Testing the classes\n",
        "animal = Animal()\n",
        "animal.speak()  # Output: This is a generic animal sound.\n",
        "\n",
        "dog = Dog()\n",
        "dog.speak()  # Output: Bark!\n"
      ],
      "metadata": {
        "id": "OqeItMdRAO6t",
        "colab": {
          "base_uri": "https://localhost:8080/"
        },
        "outputId": "fe53d54d-5b5d-4134-87a4-19f7e92047e0"
      },
      "execution_count": 2,
      "outputs": [
        {
          "output_type": "stream",
          "name": "stdout",
          "text": [
            "This is a generic animal sound.\n",
            "Bark!\n"
          ]
        }
      ]
    },
    {
      "cell_type": "code",
      "source": [
        "#2. Write a program to create an abstract class Shape with a method area(). Derive classes Circle and Rectangle\n",
        "#from it and implement the area() method in both.\n",
        "\n",
        "from abc import ABC, abstractmethod\n",
        "import math\n",
        "\n",
        "# Abstract class\n",
        "class Shape(ABC):\n",
        "    @abstractmethod\n",
        "    def area(self):\n",
        "        pass\n",
        "\n",
        "# Derived class for Circle\n",
        "class Circle(Shape):\n",
        "    def __init__(self, radius):\n",
        "        self.radius = radius\n",
        "\n",
        "    def area(self):\n",
        "        return math.pi * (self.radius ** 2)\n",
        "\n",
        "# Derived class for Rectangle\n",
        "class Rectangle(Shape):\n",
        "    def __init__(self, length, width):\n",
        "        self.length = length\n",
        "        self.width = width\n",
        "\n",
        "    def area(self):\n",
        "        return self.length * self.width\n",
        "\n",
        "# Testing the implementation\n",
        "circle = Circle(5)  # Circle with radius 5\n",
        "rectangle = Rectangle(4, 6)  # Rectangle with length 4 and width 6\n",
        "\n",
        "print(f\"Area of Circle: {circle.area():.2f}\")  # Output: Area of Circle: 78.54\n",
        "print(f\"Area of Rectangle: {rectangle.area()}\")  # Output: Area of Rectangle: 24\n"
      ],
      "metadata": {
        "colab": {
          "base_uri": "https://localhost:8080/"
        },
        "id": "A8u7v1tm2dDX",
        "outputId": "d668d7bb-7b18-40c9-e849-21e4fe125248"
      },
      "execution_count": 3,
      "outputs": [
        {
          "output_type": "stream",
          "name": "stdout",
          "text": [
            "Area of Circle: 78.54\n",
            "Area of Rectangle: 24\n"
          ]
        }
      ]
    },
    {
      "cell_type": "code",
      "source": [
        "#3. Implement a multi-level inheritance scenario where a class Vehicle has an attribute type. Derive a class Car\n",
        "#and further derive a class ElectricCar that adds a battery attribute.\n",
        "\n",
        "# Base class\n",
        "class Vehicle:\n",
        "    def __init__(self, vehicle_type):\n",
        "        self.vehicle_type = vehicle_type\n",
        "\n",
        "    def display_type(self):\n",
        "        print(f\"Vehicle type: {self.vehicle_type}\")\n",
        "\n",
        "# Intermediate class\n",
        "class Car(Vehicle):\n",
        "    def __init__(self, vehicle_type, brand):\n",
        "        super().__init__(vehicle_type)\n",
        "        self.brand = brand\n",
        "\n",
        "    def display_car_details(self):\n",
        "        print(f\"Car brand: {self.brand}\")\n",
        "\n",
        "# Derived class\n",
        "class ElectricCar(Car):\n",
        "    def __init__(self, vehicle_type, brand, battery_capacity):\n",
        "        super().__init__(vehicle_type, brand)\n",
        "        self.battery_capacity = battery_capacity\n",
        "\n",
        "    def display_electric_car_details(self):\n",
        "        print(f\"Battery capacity: {self.battery_capacity} kWh\")\n",
        "\n",
        "# Testing the multi-level inheritance\n",
        "vehicle = Vehicle(\"General\")\n",
        "vehicle.display_type()  # Output: Vehicle type: General\n",
        "\n",
        "car = Car(\"Car\", \"Toyota\")\n",
        "car.display_type()  # Output: Vehicle type: Car\n",
        "car.display_car_details()  # Output: Car brand: Toyota\n",
        "\n",
        "electric_car = ElectricCar(\"Electric Car\", \"Tesla\", 75)\n",
        "electric_car.display_type()  # Output: Vehicle type: Electric Car\n",
        "electric_car.display_car_details()  # Output: Car brand: Tesla\n",
        "electric_car.display_electric_car_details()  # Output: Battery capacity: 75 kWh\n"
      ],
      "metadata": {
        "colab": {
          "base_uri": "https://localhost:8080/"
        },
        "id": "y5BeKAmp20Tr",
        "outputId": "556ae864-e359-44df-f414-34dab98a11c7"
      },
      "execution_count": 4,
      "outputs": [
        {
          "output_type": "stream",
          "name": "stdout",
          "text": [
            "Vehicle type: General\n",
            "Vehicle type: Car\n",
            "Car brand: Toyota\n",
            "Vehicle type: Electric Car\n",
            "Car brand: Tesla\n",
            "Battery capacity: 75 kWh\n"
          ]
        }
      ]
    },
    {
      "cell_type": "code",
      "source": [
        "#4. Implement a multi-level inheritance scenario where a class Vehicle has an attribute type. Derive a class Car\n",
        "#and further derive a class ElectricCar that adds a battery attribute.\n",
        "\n",
        "# Base class\n",
        "class Vehicle:\n",
        "    def __init__(self, vehicle_type):\n",
        "        self.vehicle_type = vehicle_type\n",
        "\n",
        "    def display_type(self):\n",
        "        print(f\"Vehicle type: {self.vehicle_type}\")\n",
        "\n",
        "# Intermediate class\n",
        "class Car(Vehicle):\n",
        "    def __init__(self, vehicle_type, brand):\n",
        "        super().__init__(vehicle_type)\n",
        "        self.brand = brand\n",
        "\n",
        "    def display_car_details(self):\n",
        "        print(f\"Car brand: {self.brand}\")\n",
        "\n",
        "# Derived class\n",
        "class ElectricCar(Car):\n",
        "    def __init__(self, vehicle_type, brand, battery_capacity):\n",
        "        super().__init__(vehicle_type, brand)\n",
        "        self.battery_capacity = battery_capacity\n",
        "\n",
        "    def display_electric_car_details(self):\n",
        "        print(f\"Battery capacity: {self.battery_capacity} kWh\")\n",
        "\n",
        "# Testing the multi-level inheritance\n",
        "# Creating a general Vehicle\n",
        "vehicle = Vehicle(\"Transport Vehicle\")\n",
        "vehicle.display_type()  # Output: Vehicle type: Transport Vehicle\n",
        "\n",
        "# Creating a Car\n",
        "car = Car(\"Car\", \"Toyota\")\n",
        "car.display_type()  # Output: Vehicle type: Car\n",
        "car.display_car_details()  # Output: Car brand: Toyota\n",
        "\n",
        "# Creating an ElectricCar\n",
        "electric_car = ElectricCar(\"Electric Car\", \"Tesla\", 100)\n",
        "electric_car.display_type()  # Output: Vehicle type: Electric Car\n",
        "electric_car.display_car_details()  # Output: Car brand: Tesla\n",
        "electric_car.display_electric_car_details()  # Output: Battery capacity: 100 kWh\n"
      ],
      "metadata": {
        "colab": {
          "base_uri": "https://localhost:8080/"
        },
        "id": "NPERy8hn28y4",
        "outputId": "983d66ed-7f16-4fd1-a2a8-0a26433415b4"
      },
      "execution_count": 5,
      "outputs": [
        {
          "output_type": "stream",
          "name": "stdout",
          "text": [
            "Vehicle type: Transport Vehicle\n",
            "Vehicle type: Car\n",
            "Car brand: Toyota\n",
            "Vehicle type: Electric Car\n",
            "Car brand: Tesla\n",
            "Battery capacity: 100 kWh\n"
          ]
        }
      ]
    },
    {
      "cell_type": "code",
      "source": [
        "#5. Write a program to demonstrate encapsulation by creating a class BankAccount with private attributes\n",
        "#balance and methods to deposit, withdraw, and check balance.\n",
        "\n",
        "class BankAccount:\n",
        "    def __init__(self, initial_balance=0):\n",
        "        # Private attribute\n",
        "        self.__balance = initial_balance\n",
        "\n",
        "    # Method to deposit money\n",
        "    def deposit(self, amount):\n",
        "        if amount > 0:\n",
        "            self.__balance += amount\n",
        "            print(f\"Deposited: {amount}\")\n",
        "        else:\n",
        "            print(\"Deposit amount must be positive.\")\n",
        "\n",
        "    # Method to withdraw money\n",
        "    def withdraw(self, amount):\n",
        "        if 0 < amount <= self.__balance:\n",
        "            self.__balance -= amount\n",
        "            print(f\"Withdrawn: {amount}\")\n",
        "        elif amount > self.__balance:\n",
        "            print(\"Insufficient balance.\")\n",
        "        else:\n",
        "            print(\"Withdrawal amount must be positive.\")\n",
        "\n",
        "    # Method to check balance\n",
        "    def check_balance(self):\n",
        "        print(f\"Current balance: {self.__balance}\")\n",
        "\n",
        "# Testing the BankAccount class\n",
        "account = BankAccount(1000)  # Create account with an initial balance of 1000\n",
        "account.check_balance()      # Output: Current balance: 1000\n",
        "\n",
        "account.deposit(500)         # Output: Deposited: 500\n",
        "account.check_balance()      # Output: Current balance: 1500\n",
        "\n",
        "account.withdraw(300)        # Output: Withdrawn: 300\n",
        "account.check_balance()      # Output: Current balance: 1200\n",
        "\n",
        "account.withdraw(2000)       # Output: Insufficient balance.\n",
        "account.deposit(-100)        # Output: Deposit amount must be positive.\n"
      ],
      "metadata": {
        "colab": {
          "base_uri": "https://localhost:8080/"
        },
        "id": "pL2TvMtC3E-9",
        "outputId": "0bf79db0-4bde-4c5d-ad43-d514734a0a87"
      },
      "execution_count": 6,
      "outputs": [
        {
          "output_type": "stream",
          "name": "stdout",
          "text": [
            "Current balance: 1000\n",
            "Deposited: 500\n",
            "Current balance: 1500\n",
            "Withdrawn: 300\n",
            "Current balance: 1200\n",
            "Insufficient balance.\n",
            "Deposit amount must be positive.\n"
          ]
        }
      ]
    },
    {
      "cell_type": "code",
      "source": [
        "#6. Demonstrate runtime polymorphism using a method play() in a base class Instrument. Derive classes Guitar\n",
        "#and Piano that implement their own version of play().\n",
        "\n",
        "# Base class\n",
        "class Instrument:\n",
        "    def play(self):\n",
        "        print(\"Playing an instrument.\")\n",
        "\n",
        "# Derived class for Guitar\n",
        "class Guitar(Instrument):\n",
        "    def play(self):\n",
        "        print(\"Strumming the guitar.\")\n",
        "\n",
        "# Derived class for Piano\n",
        "class Piano(Instrument):\n",
        "    def play(self):\n",
        "        print(\"Playing the piano.\")\n",
        "\n",
        "# Function to demonstrate runtime polymorphism\n",
        "def play_instrument(instrument):\n",
        "    instrument.play()\n",
        "\n",
        "# Testing the implementation\n",
        "instrument = Instrument()\n",
        "guitar = Guitar()\n",
        "piano = Piano()\n",
        "\n",
        "play_instrument(instrument)  # Output: Playing an instrument.\n",
        "play_instrument(guitar)      # Output: Strumming the guitar.\n",
        "play_instrument(piano)       # Output: Playing the piano.\n",
        "\n"
      ],
      "metadata": {
        "colab": {
          "base_uri": "https://localhost:8080/"
        },
        "id": "3mqZrR063NXt",
        "outputId": "d199a6a3-d7a3-491a-bed4-2e3a3b071111"
      },
      "execution_count": 7,
      "outputs": [
        {
          "output_type": "stream",
          "name": "stdout",
          "text": [
            "Playing an instrument.\n",
            "Strumming the guitar.\n",
            "Playing the piano.\n"
          ]
        }
      ]
    },
    {
      "cell_type": "code",
      "source": [
        "#7. Create a class MathOperations with a class method add_numbers() to add two numbers and a static\n",
        "#method subtract_numbers() to subtract two numbers.\n",
        "\n",
        "class MathOperations:\n",
        "    # Class method to add two numbers\n",
        "    @classmethod\n",
        "    def add_numbers(cls, a, b):\n",
        "        return a + b\n",
        "\n",
        "    # Static method to subtract two numbers\n",
        "    @staticmethod\n",
        "    def subtract_numbers(a, b):\n",
        "        return a - b\n",
        "\n",
        "# Testing the MathOperations class\n",
        "result_add = MathOperations.add_numbers(10, 5)  # Using the class method\n",
        "print(f\"Addition result: {result_add}\")         # Output: Addition result: 15\n",
        "\n",
        "result_subtract = MathOperations.subtract_numbers(10, 5)  # Using the static method\n",
        "print(f\"Subtraction result: {result_subtract}\")           # Output: Subtraction result: 5\n"
      ],
      "metadata": {
        "colab": {
          "base_uri": "https://localhost:8080/"
        },
        "id": "GiU9lcLH3USu",
        "outputId": "c703542c-d3ba-45c5-e6de-5a841d13c223"
      },
      "execution_count": 8,
      "outputs": [
        {
          "output_type": "stream",
          "name": "stdout",
          "text": [
            "Addition result: 15\n",
            "Subtraction result: 5\n"
          ]
        }
      ]
    },
    {
      "cell_type": "code",
      "source": [
        "# 8. Implement a class Person with a class method to count the total number of\n",
        "\n",
        "class Person:\n",
        "    # Class-level attribute to track the count of persons\n",
        "    person_count = 0\n",
        "\n",
        "    def __init__(self, name):\n",
        "        self.name = name\n",
        "        # Increment the count whenever a new Person object is created\n",
        "        Person.person_count += 1\n",
        "\n",
        "    @classmethod\n",
        "    def get_person_count(cls):\n",
        "        return cls.person_count\n",
        "\n",
        "# Testing the Person class\n",
        "person1 = Person(\"Alice\")\n",
        "person2 = Person(\"Bob\")\n",
        "person3 = Person(\"Charlie\")\n",
        "\n",
        "print(f\"Total persons created: {Person.get_person_count()}\")  # Output: Total persons created: 3\n",
        "\n",
        "\n"
      ],
      "metadata": {
        "colab": {
          "base_uri": "https://localhost:8080/"
        },
        "id": "2DqGIKXy3bXh",
        "outputId": "19c864b5-599f-4ac4-be59-077a163d296c"
      },
      "execution_count": 9,
      "outputs": [
        {
          "output_type": "stream",
          "name": "stdout",
          "text": [
            "Total persons created: 3\n"
          ]
        }
      ]
    },
    {
      "cell_type": "code",
      "source": [
        "#9. Write a class Fraction with attributes numerator and denominator. Override the str method to display the\n",
        "#fraction as \"numerator/denominator\".\n",
        "\n",
        "class Fraction:\n",
        "    def __init__(self, numerator, denominator):\n",
        "        self.numerator = numerator\n",
        "        self.denominator = denominator\n",
        "\n",
        "    def __str__(self):\n",
        "        return f\"{self.numerator}/{self.denominator}\"\n",
        "\n",
        "# Testing the Fraction class\n",
        "fraction1 = Fraction(3, 4)\n",
        "fraction2 = Fraction(5, 8)\n",
        "\n",
        "print(f\"Fraction 1: {fraction1}\")  # Output: Fraction 1: 3/4\n",
        "print(f\"Fraction 2: {fraction2}\")  # Output: Fraction 2: 5/8\n"
      ],
      "metadata": {
        "colab": {
          "base_uri": "https://localhost:8080/"
        },
        "id": "lgG0M51b3rMf",
        "outputId": "9649c94c-6c67-4729-c19d-852ac6ac2257"
      },
      "execution_count": 10,
      "outputs": [
        {
          "output_type": "stream",
          "name": "stdout",
          "text": [
            "Fraction 1: 3/4\n",
            "Fraction 2: 5/8\n"
          ]
        }
      ]
    },
    {
      "cell_type": "code",
      "source": [
        "#10. Demonstrate operator overloading by creating a class Vector and overriding the add method to add two vectors.\n",
        "\n",
        "class Vector:\n",
        "    def __init__(self, x, y):\n",
        "        self.x = x\n",
        "        self.y = y\n",
        "\n",
        "    # Overloading the '+' operator to add two vectors\n",
        "    def __add__(self, other):\n",
        "        if isinstance(other, Vector):\n",
        "            return Vector(self.x + other.x, self.y + other.y)\n",
        "        return NotImplemented\n",
        "\n",
        "    def __str__(self):\n",
        "        return f\"({self.x}, {self.y})\"\n",
        "\n",
        "# Testing the Vector class and operator overloading\n",
        "vector1 = Vector(2, 3)\n",
        "vector2 = Vector(4, 5)\n",
        "\n",
        "# Adding two vectors using the overloaded '+' operator\n",
        "result = vector1 + vector2\n",
        "\n",
        "print(f\"Vector 1: {vector1}\")  # Output: Vector 1: (2, 3)\n",
        "print(f\"Vector 2: {vector2}\")  # Output: Vector 2: (4, 5)\n",
        "print(f\"Result of addition: {result}\")  # Output: Result of addition: (6, 8)\n",
        "\n"
      ],
      "metadata": {
        "colab": {
          "base_uri": "https://localhost:8080/"
        },
        "id": "xBRd6bPv3zyF",
        "outputId": "068f1c35-de82-4985-e3b8-1b1ec57fcf3c"
      },
      "execution_count": 11,
      "outputs": [
        {
          "output_type": "stream",
          "name": "stdout",
          "text": [
            "Vector 1: (2, 3)\n",
            "Vector 2: (4, 5)\n",
            "Result of addition: (6, 8)\n"
          ]
        }
      ]
    },
    {
      "cell_type": "code",
      "source": [
        "#11. Create a class Person with attributes name and age. Add a method greet() that prints \"Hello, my name is\n",
        "#{name} and I am {age} years old.\"\n",
        "\n",
        "class Person:\n",
        "    def __init__(self, name, age):\n",
        "        self.name = name\n",
        "        self.age = age\n",
        "\n",
        "    def greet(self):\n",
        "        print(f\"Hello, my name is {self.name} and I am {self.age} years old.\")\n",
        "\n",
        "# Testing the Person class\n",
        "person1 = Person(\"Alice\", 30)\n",
        "person2 = Person(\"Bob\", 25)\n",
        "\n",
        "person1.greet()  # Output: Hello, my name is Alice and I am 30 years old.\n",
        "person2.greet()  # Output: Hello, my name is Bob and I am 25 years old.\n"
      ],
      "metadata": {
        "colab": {
          "base_uri": "https://localhost:8080/"
        },
        "id": "l_bTAADU3-ns",
        "outputId": "a520d07b-1793-437a-de79-d0897713ff25"
      },
      "execution_count": 12,
      "outputs": [
        {
          "output_type": "stream",
          "name": "stdout",
          "text": [
            "Hello, my name is Alice and I am 30 years old.\n",
            "Hello, my name is Bob and I am 25 years old.\n"
          ]
        }
      ]
    },
    {
      "cell_type": "code",
      "source": [
        "#12. Implement a class Student with attributes name and grades. Create a method average_grade() to compute the average of the grades.\n",
        "\n",
        "class Student:\n",
        "    def __init__(self, name, grades):\n",
        "        self.name = name\n",
        "        self.grades = grades  # grades is a list of numbers\n",
        "\n",
        "    def average_grade(self):\n",
        "        if len(self.grades) == 0:\n",
        "            return 0  # Return 0 if no grades are provided\n",
        "        return sum(self.grades) / len(self.grades)\n",
        "\n",
        "# Testing the Student class\n",
        "student1 = Student(\"Alice\", [90, 85, 88, 92])\n",
        "student2 = Student(\"Bob\", [75, 80, 70, 78])\n",
        "\n",
        "print(f\"{student1.name}'s average grade: {student1.average_grade():.2f}\")  # Output: Alice's average grade: 88.75\n",
        "print(f\"{student2.name}'s average grade: {student2.average_grade():.2f}\")  # Output: Bob's average grade: 75.25\n"
      ],
      "metadata": {
        "colab": {
          "base_uri": "https://localhost:8080/"
        },
        "id": "pKnxtlXt4HfY",
        "outputId": "7731dc29-9719-4924-8a38-7f796725d1fd"
      },
      "execution_count": 13,
      "outputs": [
        {
          "output_type": "stream",
          "name": "stdout",
          "text": [
            "Alice's average grade: 88.75\n",
            "Bob's average grade: 75.75\n"
          ]
        }
      ]
    },
    {
      "cell_type": "code",
      "source": [
        "#13. Create a class Rectangle with methods set_dimensions() to set the dimensions and area() to calculate the area.\n",
        "\n",
        "class Rectangle:\n",
        "    def __init__(self):\n",
        "        self.length = 0\n",
        "        self.width = 0\n",
        "\n",
        "    # Method to set the dimensions of the rectangle\n",
        "    def set_dimensions(self, length, width):\n",
        "        self.length = length\n",
        "        self.width = width\n",
        "\n",
        "    # Method to calculate the area of the rectangle\n",
        "    def area(self):\n",
        "        return self.length * self.width\n",
        "\n",
        "# Testing the Rectangle class\n",
        "rectangle = Rectangle()\n",
        "\n",
        "# Set dimensions of the rectangle\n",
        "rectangle.set_dimensions(5, 3)\n",
        "\n",
        "# Calculate and print the area of the rectangle\n",
        "print(f\"Area of the rectangle: {rectangle.area()}\")  # Output: Area of the rectangle: 15\n"
      ],
      "metadata": {
        "colab": {
          "base_uri": "https://localhost:8080/"
        },
        "id": "u-w8sHYM4O12",
        "outputId": "789ed792-9c58-4a16-ad2d-05889b01407b"
      },
      "execution_count": 14,
      "outputs": [
        {
          "output_type": "stream",
          "name": "stdout",
          "text": [
            "Area of the rectangle: 15\n"
          ]
        }
      ]
    },
    {
      "cell_type": "code",
      "source": [
        "#14. Create a class Employee with a method calculate_salary() that computes the salary based on hours worked\n",
        "#and hourly rate. Create a derived class Manager that adds a bonus to the salary.\n",
        "\n",
        "class Employee:\n",
        "    def __init__(self, name, hours_worked, hourly_rate):\n",
        "        self.name = name\n",
        "        self.hours_worked = hours_worked\n",
        "        self.hourly_rate = hourly_rate\n",
        "\n",
        "    # Method to calculate the salary based on hours worked and hourly rate\n",
        "    def calculate_salary(self):\n",
        "        return self.hours_worked * self.hourly_rate\n",
        "\n",
        "class Manager(Employee):\n",
        "    def __init__(self, name, hours_worked, hourly_rate, bonus):\n",
        "        super().__init__(name, hours_worked, hourly_rate)\n",
        "        self.bonus = bonus\n",
        "\n",
        "    # Overriding the calculate_salary method to include the bonus\n",
        "    def calculate_salary(self):\n",
        "        base_salary = super().calculate_salary()\n",
        "        return base_salary + self.bonus\n",
        "\n",
        "# Testing the Employee and Manager classes\n",
        "employee = Employee(\"John\", 40, 20)  # 40 hours worked at $20 per hour\n",
        "manager = Manager(\"Alice\", 40, 30, 500)  # 40 hours worked at $30 per hour, with a 500 bonus\n",
        "\n",
        "print(f\"{employee.name}'s salary: ${employee.calculate_salary()}\")  # Output: John's salary: $800\n",
        "print(f\"{manager.name}'s salary: ${manager.calculate_salary()}\")  # Output: Alice's salary: $1700\n",
        "\n"
      ],
      "metadata": {
        "colab": {
          "base_uri": "https://localhost:8080/"
        },
        "id": "N3rXMJKn4V3W",
        "outputId": "198cf176-78d0-4291-f275-fde9c4342db0"
      },
      "execution_count": 16,
      "outputs": [
        {
          "output_type": "stream",
          "name": "stdout",
          "text": [
            "John's salary: $800\n",
            "Alice's salary: $1700\n"
          ]
        }
      ]
    },
    {
      "cell_type": "code",
      "source": [
        "#15. Create a class Product with attributes name, price, and quantity. Implement a method total_price() that\n",
        "#calculates the total price of the product.\n",
        "\n",
        "class Product:\n",
        "    def __init__(self, name, price, quantity):\n",
        "        self.name = name\n",
        "        self.price = price\n",
        "        self.quantity = quantity\n",
        "\n",
        "    # Method to calculate the total price of the product\n",
        "    def total_price(self):\n",
        "        return self.price * self.quantity\n",
        "\n",
        "# Testing the Product class\n",
        "product1 = Product(\"Laptop\", 1000, 3)\n",
        "product2 = Product(\"Smartphone\", 500, 5)\n",
        "\n",
        "# Calculate and print the total price for both products\n",
        "print(f\"Total price of {product1.name}: ${product1.total_price()}\")  # Output: Total price of Laptop: $3000\n",
        "print(f\"Total price of {product2.name}: ${product2.total_price()}\")  # Output: Total price of Smartphone: $2500\n"
      ],
      "metadata": {
        "colab": {
          "base_uri": "https://localhost:8080/"
        },
        "id": "5k4xaMGk4dim",
        "outputId": "942642bc-64f1-45cd-ea0e-b9f076c6cd29"
      },
      "execution_count": 17,
      "outputs": [
        {
          "output_type": "stream",
          "name": "stdout",
          "text": [
            "Total price of Laptop: $3000\n",
            "Total price of Smartphone: $2500\n"
          ]
        }
      ]
    },
    {
      "cell_type": "code",
      "source": [
        "#16. Create a class Animal with an abstract method sound(). Create two derived classes Cow and Sheep that\n",
        "#implement the sound() method.\n",
        "\n",
        "from abc import ABC, abstractmethod\n",
        "\n",
        "# Abstract base class\n",
        "class Animal(ABC):\n",
        "    @abstractmethod\n",
        "    def sound(self):\n",
        "        pass\n",
        "\n",
        "# Derived class Cow\n",
        "class Cow(Animal):\n",
        "    def sound(self):\n",
        "        print(\"Moo\")\n",
        "\n",
        "# Derived class Sheep\n",
        "class Sheep(Animal):\n",
        "    def sound(self):\n",
        "        print(\"Baa\")\n",
        "\n",
        "# Testing the Animal, Cow, and Sheep classes\n",
        "cow = Cow()\n",
        "sheep = Sheep()\n",
        "\n",
        "cow.sound()   # Output: Moo\n",
        "sheep.sound()  # Output: Baa\n"
      ],
      "metadata": {
        "colab": {
          "base_uri": "https://localhost:8080/"
        },
        "id": "9QkNT6lU4-MY",
        "outputId": "84bac302-72a1-48ac-9c94-e9df4d8179ec"
      },
      "execution_count": 18,
      "outputs": [
        {
          "output_type": "stream",
          "name": "stdout",
          "text": [
            "Moo\n",
            "Baa\n"
          ]
        }
      ]
    },
    {
      "cell_type": "code",
      "source": [
        "#17. Create a class Book with attributes title, author, and year_published. Add a method get_book_info() that\n",
        "#returns a formatted string with the book's details.\n",
        "\n",
        "class Book:\n",
        "    def __init__(self, title, author, year_published):\n",
        "        self.title = title\n",
        "        self.author = author\n",
        "        self.year_published = year_published\n",
        "\n",
        "    # Method to get the book's details in a formatted string\n",
        "    def get_book_info(self):\n",
        "        return f\"'{self.title}' by {self.author}, published in {self.year_published}\"\n",
        "\n",
        "# Testing the Book class\n",
        "book1 = Book(\"To Kill a Mockingbird\", \"Harper Lee\", 1960)\n",
        "book2 = Book(\"1984\", \"George Orwell\", 1949)\n",
        "\n",
        "# Get and print the details of the books\n",
        "print(book1.get_book_info())  # Output: 'To Kill a Mockingbird' by Harper Lee, published in 1960\n",
        "print(book2.get_book_info())  # Output: '1984' by George Orwell, published in 1949\n"
      ],
      "metadata": {
        "colab": {
          "base_uri": "https://localhost:8080/"
        },
        "id": "m0AkJw2V5FXF",
        "outputId": "3ffb3097-7d42-49fd-c29e-ef72907df0ef"
      },
      "execution_count": 19,
      "outputs": [
        {
          "output_type": "stream",
          "name": "stdout",
          "text": [
            "'To Kill a Mockingbird' by Harper Lee, published in 1960\n",
            "'1984' by George Orwell, published in 1949\n"
          ]
        }
      ]
    },
    {
      "cell_type": "code",
      "source": [
        "#18. Create a class House with attributes address and price. Create a derived class Mansion that adds an attribute number_of_rooms.\n",
        "\n",
        "# Base class House\n",
        "class House:\n",
        "    def __init__(self, address, price):\n",
        "        self.address = address\n",
        "        self.price = price\n",
        "\n",
        "    def get_info(self):\n",
        "        return f\"Address: {self.address}, Price: ${self.price}\"\n",
        "\n",
        "# Derived class Mansion\n",
        "class Mansion(House):\n",
        "    def __init__(self, address, price, number_of_rooms):\n",
        "        # Call the constructor of the base class\n",
        "        super().__init__(address, price)\n",
        "        self.number_of_rooms = number_of_rooms\n",
        "\n",
        "    def get_mansion_info(self):\n",
        "        # Get the base class info and add mansion-specific details\n",
        "        base_info = super().get_info()\n",
        "        return f\"{base_info}, Number of Rooms: {self.number_of_rooms}\"\n",
        "\n",
        "# Testing the House and Mansion classes\n",
        "house = House(\"1234 Elm St\", 250000)\n",
        "mansion = Mansion(\"5678 Oak Ave\", 1500000, 10)\n",
        "\n",
        "# Get and print the information for both the house and the mansion\n",
        "print(house.get_info())  # Output: Address: 1234 Elm St, Price: $250000\n",
        "print(mansion.get_mansion_info())  # Output: Address: 5678 Oak Ave, Price: $1500000, Number of Rooms: 10\n"
      ],
      "metadata": {
        "colab": {
          "base_uri": "https://localhost:8080/"
        },
        "id": "NWo3myf15MIc",
        "outputId": "8551d3ed-dbf4-4a12-c890-5808f7276bc8"
      },
      "execution_count": 20,
      "outputs": [
        {
          "output_type": "stream",
          "name": "stdout",
          "text": [
            "Address: 1234 Elm St, Price: $250000\n",
            "Address: 5678 Oak Ave, Price: $1500000, Number of Rooms: 10\n"
          ]
        }
      ]
    },
    {
      "cell_type": "code",
      "source": [],
      "metadata": {
        "id": "SQ6CvrZJ5UGp"
      },
      "execution_count": null,
      "outputs": []
    }
  ]
}